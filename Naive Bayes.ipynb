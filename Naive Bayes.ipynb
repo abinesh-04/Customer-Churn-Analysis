{
 "cells": [
  {
   "cell_type": "code",
   "execution_count": 2,
   "metadata": {},
   "outputs": [
    {
     "data": {
      "text/html": [
       "\n",
       "            <div>\n",
       "                <p><b>SparkSession - in-memory</b></p>\n",
       "                \n",
       "        <div>\n",
       "            <p><b>SparkContext</b></p>\n",
       "\n",
       "            <p><a href=\"http://Tarun-Akash:4041\">Spark UI</a></p>\n",
       "\n",
       "            <dl>\n",
       "              <dt>Version</dt>\n",
       "                <dd><code>v3.5.2</code></dd>\n",
       "              <dt>Master</dt>\n",
       "                <dd><code>local[*]</code></dd>\n",
       "              <dt>AppName</dt>\n",
       "                <dd><code>ChurnPrediction</code></dd>\n",
       "            </dl>\n",
       "        </div>\n",
       "        \n",
       "            </div>\n",
       "        "
      ],
      "text/plain": [
       "<pyspark.sql.session.SparkSession at 0x14973fa3bc0>"
      ]
     },
     "execution_count": 2,
     "metadata": {},
     "output_type": "execute_result"
    }
   ],
   "source": [
    "from pyspark.sql import SparkSession\n",
    "\n",
    "# Initialize Spark session\n",
    "spark = SparkSession.builder.appName(\"ChurnPrediction\").getOrCreate()\n",
    "\n",
    "# Confirm Spark session started\n",
    "spark"
   ]
  },
  {
   "cell_type": "code",
   "execution_count": 11,
   "metadata": {},
   "outputs": [
    {
     "name": "stdout",
     "output_type": "stream",
     "text": [
      "+-----+------------+---------------+--------+---------+-------------+-------+--------+-------------+----------+--------+\n",
      "|Churn|AccountWeeks|ContractRenewal|DataPlan|DataUsage|CustServCalls|DayMins|DayCalls|MonthlyCharge|OverageFee|RoamMins|\n",
      "+-----+------------+---------------+--------+---------+-------------+-------+--------+-------------+----------+--------+\n",
      "|    0|         128|              1|       1|      2.7|            1|  265.1|     110|         89.0|      9.87|    10.0|\n",
      "|    0|         107|              1|       1|      3.7|            1|  161.6|     123|         82.0|      9.78|    13.7|\n",
      "|    0|         137|              1|       0|      0.0|            0|  243.4|     114|         52.0|      6.06|    12.2|\n",
      "|    0|          84|              0|       0|      0.0|            2|  299.4|      71|         57.0|       3.1|     6.6|\n",
      "|    0|          75|              0|       0|      0.0|            3|  166.7|     113|         41.0|      7.42|    10.1|\n",
      "|    0|         118|              0|       0|      0.0|            0|  223.4|      98|         57.0|     11.03|     6.3|\n",
      "|    0|         121|              1|       1|     2.03|            3|  218.2|      88|         87.3|     17.43|     7.5|\n",
      "|    0|         147|              0|       0|      0.0|            0|  157.0|      79|         36.0|      5.16|     7.1|\n",
      "|    0|         117|              1|       0|     0.19|            1|  184.5|      97|         63.9|     17.58|     8.7|\n",
      "|    0|         141|              0|       1|     3.02|            0|  258.6|      84|         93.2|      11.1|    11.2|\n",
      "|    1|          65|              1|       0|     0.29|            4|  129.1|     137|         44.9|     11.43|    12.7|\n",
      "|    0|          74|              1|       0|     0.34|            0|  187.7|     127|         49.4|      8.17|     9.1|\n",
      "|    0|         168|              1|       0|      0.0|            1|  128.8|      96|         31.0|      5.25|    11.2|\n",
      "|    0|          95|              1|       0|     0.44|            3|  156.6|      88|         52.4|     12.38|    12.3|\n",
      "|    0|          62|              1|       0|      0.0|            4|  120.7|      70|         47.0|     15.36|    13.1|\n",
      "|    1|         161|              1|       0|      0.0|            4|  332.9|      67|         84.0|     15.89|     5.4|\n",
      "|    0|          85|              1|       1|     3.73|            1|  196.4|     139|         95.3|     14.05|    13.8|\n",
      "|    0|          93|              1|       0|      0.0|            3|  190.7|     114|         51.0|     10.91|     8.1|\n",
      "|    0|          76|              1|       1|      2.7|            1|  189.7|      66|         78.0|     10.64|    10.0|\n",
      "|    0|          73|              1|       0|      0.0|            1|  224.4|      90|         52.0|      7.98|    13.0|\n",
      "+-----+------------+---------------+--------+---------+-------------+-------+--------+-------------+----------+--------+\n",
      "only showing top 20 rows\n",
      "\n"
     ]
    }
   ],
   "source": [
    "df = spark.read.csv(r'C:/Users/Tarun Akash/Desktop/df_clean.csv', header=True, inferSchema=True)\n",
    "\n",
    "df.show(20)\n"
   ]
  },
  {
   "cell_type": "code",
   "execution_count": 13,
   "metadata": {},
   "outputs": [
    {
     "name": "stdout",
     "output_type": "stream",
     "text": [
      "+--------------------+-----+\n",
      "|            features|label|\n",
      "+--------------------+-----+\n",
      "|[128.0,1.0,1.0,2....|  0.0|\n",
      "|[107.0,1.0,1.0,3....|  0.0|\n",
      "|[137.0,1.0,0.0,0....|  0.0|\n",
      "|[84.0,0.0,0.0,0.0...|  0.0|\n",
      "|[75.0,0.0,0.0,0.0...|  0.0|\n",
      "+--------------------+-----+\n",
      "only showing top 5 rows\n",
      "\n"
     ]
    }
   ],
   "source": [
    "from pyspark.ml.feature import VectorAssembler\n",
    "from pyspark.ml.classification import NaiveBayes\n",
    "from pyspark.ml.evaluation import MulticlassClassificationEvaluator\n",
    "\n",
    "# Convert all columns (except 'Churn') to a single feature vector\n",
    "assembler = VectorAssembler(inputCols=[col for col in data.columns if col != 'Churn'], outputCol='features')\n",
    "data = assembler.transform(data)\n",
    "\n",
    "# Convert 'Churn' column to a numerical label if necessary (string to int)\n",
    "from pyspark.ml.feature import StringIndexer\n",
    "indexer = StringIndexer(inputCol='Churn', outputCol='label')\n",
    "data = indexer.fit(data).transform(data)\n",
    "\n",
    "# Select 'features' and 'label' for Naive Bayes\n",
    "final_data = data.select('features', 'label')\n",
    "final_data.show(5)"
   ]
  },
  {
   "cell_type": "code",
   "execution_count": 14,
   "metadata": {},
   "outputs": [],
   "source": [
    "train_data, test_data = final_data.randomSplit([0.7, 0.3], seed=42)\n"
   ]
  },
  {
   "cell_type": "code",
   "execution_count": 15,
   "metadata": {},
   "outputs": [
    {
     "name": "stdout",
     "output_type": "stream",
     "text": [
      "+--------------------+-----+--------------------+--------------------+----------+\n",
      "|            features|label|       rawPrediction|         probability|prediction|\n",
      "+--------------------+-----+--------------------+--------------------+----------+\n",
      "|[1.0,1.0,0.0,0.0,...|  0.0|[-431.75704228353...|[0.00328453757668...|       1.0|\n",
      "|[1.0,1.0,1.0,2.27...|  0.0|[-578.43789929523...|[0.28084196880843...|       1.0|\n",
      "|[2.0,0.0,0.0,0.27...|  1.0|[-345.99539695062...|[0.00731949380150...|       1.0|\n",
      "|[3.0,0.0,0.0,0.26...|  0.0|[-494.93660625489...|[0.08835814041598...|       1.0|\n",
      "|[3.0,1.0,1.0,3.21...|  0.0|[-575.88244789392...|[0.99852230307546...|       0.0|\n",
      "+--------------------+-----+--------------------+--------------------+----------+\n",
      "only showing top 5 rows\n",
      "\n"
     ]
    }
   ],
   "source": [
    "# Initialize Naive Bayes model\n",
    "nb = NaiveBayes()\n",
    "\n",
    "# Fit the model\n",
    "model = nb.fit(train_data)\n",
    "\n",
    "# Make predictions\n",
    "predictions = model.transform(test_data)\n",
    "predictions.show(5)"
   ]
  },
  {
   "cell_type": "code",
   "execution_count": 16,
   "metadata": {},
   "outputs": [
    {
     "name": "stdout",
     "output_type": "stream",
     "text": [
      "Accuracy: 0.6867724867724868\n",
      "+-----+----------+-----+\n",
      "|label|prediction|count|\n",
      "+-----+----------+-----+\n",
      "|  1.0|       1.0|   60|\n",
      "|  0.0|       1.0|  220|\n",
      "|  1.0|       0.0|   76|\n",
      "|  0.0|       0.0|  589|\n",
      "+-----+----------+-----+\n",
      "\n"
     ]
    }
   ],
   "source": [
    "evaluator = MulticlassClassificationEvaluator(labelCol=\"label\", predictionCol=\"prediction\", metricName=\"accuracy\")\n",
    "\n",
    "# Calculate accuracy\n",
    "accuracy = evaluator.evaluate(predictions)\n",
    "print(f\"Accuracy: {accuracy}\")\n",
    "\n",
    "# Confusion Matrix\n",
    "predictions.groupBy(\"label\", \"prediction\").count().show()"
   ]
  }
 ],
 "metadata": {
  "kernelspec": {
   "display_name": "Python 3",
   "language": "python",
   "name": "python3"
  },
  "language_info": {
   "codemirror_mode": {
    "name": "ipython",
    "version": 3
   },
   "file_extension": ".py",
   "mimetype": "text/x-python",
   "name": "python",
   "nbconvert_exporter": "python",
   "pygments_lexer": "ipython3",
   "version": "3.12.1"
  }
 },
 "nbformat": 4,
 "nbformat_minor": 2
}
